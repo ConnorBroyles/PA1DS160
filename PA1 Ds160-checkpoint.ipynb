{
 "cells": [
  {
   "cell_type": "markdown",
   "id": "292d1035",
   "metadata": {},
   "source": [
    "# PA1, Connor Goodman, 2022 Spring DS-160"
   ]
  },
  {
   "cell_type": "code",
   "execution_count": 6,
   "id": "37ee1f59",
   "metadata": {},
   "outputs": [],
   "source": [
    "import numpy as np"
   ]
  },
  {
   "cell_type": "code",
   "execution_count": 11,
   "id": "3258f98f",
   "metadata": {},
   "outputs": [],
   "source": [
    "from prettytable import PrettyTable"
   ]
  },
  {
   "cell_type": "code",
   "execution_count": 50,
   "id": "b6831268",
   "metadata": {},
   "outputs": [
    {
     "name": "stdout",
     "output_type": "stream",
     "text": [
      "[[10 20]\n",
      " [30 40]]\n"
     ]
    }
   ],
   "source": [
    "array1=np.array([[10,20],\n",
    "                 [30,40]])\n",
    "print(array1)"
   ]
  },
  {
   "cell_type": "code",
   "execution_count": 51,
   "id": "fe04c9dc",
   "metadata": {},
   "outputs": [
    {
     "data": {
      "text/plain": [
       "array([[ 100,  400],\n",
       "       [ 900, 1600]])"
      ]
     },
     "execution_count": 51,
     "metadata": {},
     "output_type": "execute_result"
    }
   ],
   "source": [
    "np.multiply(array1,array1) #Squaring Array"
   ]
  },
  {
   "cell_type": "code",
   "execution_count": 52,
   "id": "571b8abf",
   "metadata": {},
   "outputs": [
    {
     "data": {
      "text/plain": [
       "array([[110, 120],\n",
       "       [130, 140]])"
      ]
     },
     "execution_count": 52,
     "metadata": {},
     "output_type": "execute_result"
    }
   ],
   "source": [
    "np.add(array1,100)"
   ]
  },
  {
   "cell_type": "code",
   "execution_count": 53,
   "id": "291b7088",
   "metadata": {},
   "outputs": [
    {
     "data": {
      "text/plain": [
       "array([[ 50, 100],\n",
       "       [150, 200]])"
      ]
     },
     "execution_count": 53,
     "metadata": {},
     "output_type": "execute_result"
    }
   ],
   "source": [
    "np.multiply(array1,5)"
   ]
  },
  {
   "cell_type": "code",
   "execution_count": 54,
   "id": "037a9322",
   "metadata": {},
   "outputs": [
    {
     "data": {
      "text/plain": [
       "array([[3.16227766, 4.47213595],\n",
       "       [5.47722558, 6.32455532]])"
      ]
     },
     "execution_count": 54,
     "metadata": {},
     "output_type": "execute_result"
    }
   ],
   "source": [
    "np.sqrt(array1)"
   ]
  },
  {
   "cell_type": "code",
   "execution_count": 55,
   "id": "f205a5d1",
   "metadata": {},
   "outputs": [
    {
     "name": "stdout",
     "output_type": "stream",
     "text": [
      "[[ 3  6  9]\n",
      " [12 15 18]\n",
      " [21 24 27]]\n"
     ]
    }
   ],
   "source": [
    "array2=np.array([[3,6,9],\n",
    "               [12,15,18],\n",
    "               [21,24,27]])\n",
    "\n",
    "\n",
    "print(array2)"
   ]
  },
  {
   "cell_type": "code",
   "execution_count": 56,
   "id": "5061cdd4",
   "metadata": {},
   "outputs": [
    {
     "name": "stdout",
     "output_type": "stream",
     "text": [
      "[[11 12 13]\n",
      " [14 15 16]\n",
      " [17 18 19]]\n"
     ]
    }
   ],
   "source": [
    "array3=np.array([\n",
    "                [11,12,13],\n",
    "                [14,15,16],\n",
    "                [17,18,19],\n",
    "                ])\n",
    "print(array3)"
   ]
  },
  {
   "cell_type": "code",
   "execution_count": 62,
   "id": "938a4090",
   "metadata": {},
   "outputs": [],
   "source": [
    "filenames=[\"process1.npy\",\"process2.npy\",\"process3.npy\",\"process4.npy\",\"process5.npy\",]"
   ]
  },
  {
   "cell_type": "code",
   "execution_count": 66,
   "id": "194d7088",
   "metadata": {},
   "outputs": [],
   "source": [
    "filenames=[\"process1.npy\",\"process2.npy\",\"process3.npy\",\"process4.npy\",\"process5.npy\",]\n",
    "combined_data=np.array([np.load(fname) for fname in filenames])"
   ]
  },
  {
   "cell_type": "code",
   "execution_count": 68,
   "id": "28e4041f",
   "metadata": {},
   "outputs": [
    {
     "data": {
      "text/plain": [
       "array([[[52, 12, 81,  0, 58]],\n",
       "\n",
       "       [[96,  4, 61, 16, 43]],\n",
       "\n",
       "       [[38, 96, 45, 17, 58]],\n",
       "\n",
       "       [[97, 21, 22, 25,  6]],\n",
       "\n",
       "       [[77,  6, 19,  2, 74]]])"
      ]
     },
     "execution_count": 68,
     "metadata": {},
     "output_type": "execute_result"
    }
   ],
   "source": [
    "combined_data"
   ]
  },
  {
   "cell_type": "code",
   "execution_count": 69,
   "id": "e06ab107",
   "metadata": {},
   "outputs": [
    {
     "data": {
      "text/plain": [
       "41.04"
      ]
     },
     "execution_count": 69,
     "metadata": {},
     "output_type": "execute_result"
    }
   ],
   "source": [
    "np.mean(combined_data)"
   ]
  },
  {
   "cell_type": "code",
   "execution_count": null,
   "id": "30c418d6",
   "metadata": {},
   "outputs": [],
   "source": []
  }
 ],
 "metadata": {
  "kernelspec": {
   "display_name": "Python 3",
   "language": "python",
   "name": "python3"
  },
  "language_info": {
   "codemirror_mode": {
    "name": "ipython",
    "version": 3
   },
   "file_extension": ".py",
   "mimetype": "text/x-python",
   "name": "python",
   "nbconvert_exporter": "python",
   "pygments_lexer": "ipython3",
   "version": "3.8.8"
  }
 },
 "nbformat": 4,
 "nbformat_minor": 5
}
